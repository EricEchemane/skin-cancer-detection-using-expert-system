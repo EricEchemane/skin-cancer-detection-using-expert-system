{
 "cells": [
  {
   "cell_type": "code",
   "execution_count": 22,
   "metadata": {},
   "outputs": [],
   "source": [
    "import pandas as pd\n",
    "import os\n",
    "import numpy as np\n",
    "import shutil"
   ]
  },
  {
   "cell_type": "markdown",
   "metadata": {},
   "source": [
    "### Extract all unique diagnosis"
   ]
  },
  {
   "cell_type": "code",
   "execution_count": null,
   "metadata": {},
   "outputs": [],
   "source": [
    "data = pd.read_csv('HAM10000_metadata.csv')\n",
    "\n",
    "unique_categories = data['dx'].unique()\n",
    "\n",
    "for category in unique_categories:\n",
    "    os.mkdir('categories/' + category)"
   ]
  },
  {
   "cell_type": "markdown",
   "metadata": {},
   "source": [
    "### Separate images to its folder according to its category in metadata"
   ]
  },
  {
   "cell_type": "code",
   "execution_count": 26,
   "metadata": {},
   "outputs": [],
   "source": [
    "data = pd.read_csv('HAM10000_metadata.csv')\n",
    "\n",
    "images_and_dx = data[['dx','image_id']]\n",
    "\n",
    "images_and_dx = np.array(images_and_dx)\n",
    "\n",
    "images_directory = 'HAM10000_images'\n",
    "\n",
    "for each in images_and_dx:\n",
    "    category, image_id = each\n",
    "    destination = 'categories/' + category\n",
    "    shutil.move(images_directory + '/' + image_id + '.jpg', destination)"
   ]
  }
 ],
 "metadata": {
  "interpreter": {
   "hash": "ad2bdc8ecc057115af97d19610ffacc2b4e99fae6737bb82f5d7fb13d2f2c186"
  },
  "kernelspec": {
   "display_name": "Python 3.9.7 ('base')",
   "language": "python",
   "name": "python3"
  },
  "language_info": {
   "codemirror_mode": {
    "name": "ipython",
    "version": 3
   },
   "file_extension": ".py",
   "mimetype": "text/x-python",
   "name": "python",
   "nbconvert_exporter": "python",
   "pygments_lexer": "ipython3",
   "version": "3.9.7"
  },
  "orig_nbformat": 4
 },
 "nbformat": 4,
 "nbformat_minor": 2
}
